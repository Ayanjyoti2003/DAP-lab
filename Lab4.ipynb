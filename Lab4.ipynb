{
  "nbformat": 4,
  "nbformat_minor": 0,
  "metadata": {
    "colab": {
      "provenance": [],
      "authorship_tag": "ABX9TyNGd7MyrIRTrksWGWNGQGFM"
    },
    "kernelspec": {
      "name": "python3",
      "display_name": "Python 3"
    },
    "language_info": {
      "name": "python"
    }
  },
  "cells": [
    {
      "cell_type": "code",
      "execution_count": 1,
      "metadata": {
        "colab": {
          "base_uri": "https://localhost:8080/"
        },
        "id": "hiQSsqv-k0QY",
        "outputId": "278e5a2f-9145-4ced-8536-4ad865a0bffb"
      },
      "outputs": [
        {
          "output_type": "stream",
          "name": "stdout",
          "text": [
            "0    10\n",
            "1    20\n",
            "2    30\n",
            "3    40\n",
            "dtype: int64\n"
          ]
        }
      ],
      "source": [
        "#1. Creating a Series using the pandas library\n",
        "import pandas as pd\n",
        "data = [10, 20, 30, 40]\n",
        "series = pd.Series(data)\n",
        "print(series)\n"
      ]
    },
    {
      "cell_type": "code",
      "source": [
        "#2. Creating empty series\n",
        "import pandas as pd\n",
        "empty_series = pd.Series()\n",
        "print(empty_series)\n"
      ],
      "metadata": {
        "colab": {
          "base_uri": "https://localhost:8080/"
        },
        "id": "Tnvtwf4WlJz5",
        "outputId": "36c06fbb-4a1a-43ac-d8fe-80abbd3a2b35"
      },
      "execution_count": 2,
      "outputs": [
        {
          "output_type": "stream",
          "name": "stdout",
          "text": [
            "Series([], dtype: object)\n"
          ]
        }
      ]
    },
    {
      "cell_type": "code",
      "source": [
        "#3. Creating a data frame using list.\n",
        "import pandas as pd\n",
        "data = [10, 20, 30, 40]\n",
        "df = pd.DataFrame(data, columns = ['Numbers'])\n",
        "print(df)\n"
      ],
      "metadata": {
        "colab": {
          "base_uri": "https://localhost:8080/"
        },
        "id": "ALh-WtQilcW9",
        "outputId": "8d6d56f2-e286-46a2-9285-4946f7cae84a"
      },
      "execution_count": 3,
      "outputs": [
        {
          "output_type": "stream",
          "name": "stdout",
          "text": [
            "   Numbers\n",
            "0       10\n",
            "1       20\n",
            "2       30\n",
            "3       40\n"
          ]
        }
      ]
    },
    {
      "cell_type": "code",
      "source": [
        "#4. Create pandas dataframe from list using dictionary\n",
        "import pandas as pd\n",
        "names = ['Alice', 'Bob', 'Charlie']\n",
        "ages = [25, 30, 22]\n",
        "cities = ['New York', 'London', 'Paris']\n",
        "data = {'name': names, 'age': ages, 'city': cities}\n",
        "df = pd.DataFrame(data)\n",
        "print(df)\n"
      ],
      "metadata": {
        "colab": {
          "base_uri": "https://localhost:8080/"
        },
        "id": "7NApDZ1jljY9",
        "outputId": "ee00ec15-04f0-4e5c-c87c-4f66e039b21d"
      },
      "execution_count": 4,
      "outputs": [
        {
          "output_type": "stream",
          "name": "stdout",
          "text": [
            "      name  age      city\n",
            "0    Alice   25  New York\n",
            "1      Bob   30    London\n",
            "2  Charlie   22     Paris\n"
          ]
        }
      ]
    }
  ]
}