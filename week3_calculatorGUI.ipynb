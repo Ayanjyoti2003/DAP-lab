{
 "cells": [
  {
   "cell_type": "code",
   "execution_count": null,
   "id": "fa8c6c88-b31e-4ef8-86af-078bf602a012",
   "metadata": {},
   "outputs": [],
   "source": [
    "%gui tk"
   ]
  },
  {
   "cell_type": "code",
   "execution_count": null,
   "id": "27300def",
   "metadata": {},
   "outputs": [],
   "source": [
    "import tkinter as tk\n",
    "from tkinter import messagebox\n",
    "\n",
    "def on_click(button_text):\n",
    "    if button_text == \"=\":\n",
    "        try:\n",
    "            result = eval(entry_var.get())\n",
    "            entry_var.set(result)\n",
    "        except Exception as e:\n",
    "            messagebox.showerror(\"Error\", \"Invalid Expression\")\n",
    "    elif button_text == \"C\":\n",
    "        entry_var.set(\"\")\n",
    "    else:\n",
    "        entry_var.set(entry_var.get() + button_text)  \n",
    "\n",
    "# Create the main window\n",
    "root = tk.Tk()  \n",
    "root.title(\"Calculator\")\n",
    "root.geometry(\"300x400\")\n",
    "\n",
    "entry_var = tk.StringVar()\n",
    "\n",
    "# Entry field for input and output\n",
    "entry = tk.Entry(root, textvariable=entry_var, font=(\"Arial\", 20), bd=10, relief=tk.RIDGE, justify='right')\n",
    "entry.pack(fill=tk.BOTH, padx=10, pady=10)\n",
    "\n",
    "# Button layout\n",
    "buttons = [\n",
    "    ('7', '8', '9', '/'),\n",
    "    ('4', '5', '6', '*'),\n",
    "    ('1', '2', '3', '-'),\n",
    "    ('C', '0', '=', '+')\n",
    "]\n",
    "\n",
    "frame = tk.Frame(root)\n",
    "frame.pack()\n",
    "\n",
    "for row in buttons:\n",
    "    button_row = tk.Frame(frame)\n",
    "    button_row.pack(side=tk.TOP, fill=tk.BOTH, expand=True)\n",
    "    for char in row:\n",
    "        button = tk.Button(button_row, text=char, font=(\"Arial\", 18), width=5, height=2,\n",
    "                           command=lambda ch=char: on_click(ch))\n",
    "        button.pack(side=tk.LEFT, fill=tk.BOTH, expand=True)\n",
    "\n",
    "# Run the application\n",
    "root.mainloop()\n"
   ]
  }
 ],
 "metadata": {
  "kernelspec": {
   "display_name": "Python 3 (ipykernel)",
   "language": "python",
   "name": "python3"
  },
  "language_info": {
   "codemirror_mode": {
    "name": "ipython",
    "version": 3
   },
   "file_extension": ".py",
   "mimetype": "text/x-python",
   "name": "python",
   "nbconvert_exporter": "python",
   "pygments_lexer": "ipython3",
   "version": "3.12.1"
  }
 },
 "nbformat": 4,
 "nbformat_minor": 5
}
