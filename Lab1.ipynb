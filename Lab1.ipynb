{
  "nbformat": 4,
  "nbformat_minor": 0,
  "metadata": {
    "colab": {
      "provenance": [],
      "authorship_tag": "ABX9TyMcHVNeseEBfuMpyQ8Y6cyg",
      "include_colab_link": true
    },
    "kernelspec": {
      "name": "python3",
      "display_name": "Python 3"
    },
    "language_info": {
      "name": "python"
    }
  },
  "cells": [
    {
      "cell_type": "markdown",
      "metadata": {
        "id": "view-in-github",
        "colab_type": "text"
      },
      "source": [
        "<a href=\"https://colab.research.google.com/github/Ayanjyoti2003/DAP-lab/blob/main/Lab1.ipynb\" target=\"_parent\"><img src=\"https://colab.research.google.com/assets/colab-badge.svg\" alt=\"Open In Colab\"/></a>"
      ]
    },
    {
      "cell_type": "markdown",
      "source": [
        "1. Print \"Hello, World!\"."
      ],
      "metadata": {
        "id": "-Jx_8QODPuvI"
      }
    },
    {
      "cell_type": "code",
      "execution_count": 1,
      "metadata": {
        "id": "OeYZhCGc_LPQ",
        "colab": {
          "base_uri": "https://localhost:8080/"
        },
        "outputId": "ba0e5bf2-8f0a-474f-a774-c1e5b886f12f"
      },
      "outputs": [
        {
          "output_type": "stream",
          "name": "stdout",
          "text": [
            "Hello, World!\n"
          ]
        }
      ],
      "source": [
        "print(\"Hello, World!\")"
      ]
    },
    {
      "cell_type": "markdown",
      "source": [
        "2. Calculate the sum of two numbers."
      ],
      "metadata": {
        "id": "W-xNVsbMQE9g"
      }
    },
    {
      "cell_type": "code",
      "source": [
        "a,b=2,5\n",
        "sum=a+b\n",
        "print(\"sum of\",a,\"&\",b,\"=\",sum)"
      ],
      "metadata": {
        "id": "w8-p6P-z_4u2",
        "colab": {
          "base_uri": "https://localhost:8080/"
        },
        "outputId": "ad68656c-e49e-4752-9483-1c56c03ab249"
      },
      "execution_count": null,
      "outputs": [
        {
          "output_type": "stream",
          "name": "stdout",
          "text": [
            "sum of 2 & 5 = 7\n"
          ]
        }
      ]
    },
    {
      "cell_type": "markdown",
      "source": [
        "3. Find the square of a number."
      ],
      "metadata": {
        "id": "YEeUVuZ4QceG"
      }
    },
    {
      "cell_type": "code",
      "source": [
        "a=3\n",
        "square=a**2\n",
        "print(\"suare of\",a,\"=\",square)"
      ],
      "metadata": {
        "id": "tTMoEcodAlgK",
        "colab": {
          "base_uri": "https://localhost:8080/"
        },
        "outputId": "eeb81ec4-7684-4061-8042-9890fe2b1da0"
      },
      "execution_count": null,
      "outputs": [
        {
          "output_type": "stream",
          "name": "stdout",
          "text": [
            "suare of 3 = 9\n"
          ]
        }
      ]
    },
    {
      "cell_type": "markdown",
      "source": [
        "4. Accept the user's name and greet them with it."
      ],
      "metadata": {
        "id": "W7CkpcazQe-k"
      }
    },
    {
      "cell_type": "code",
      "source": [
        "a=input(\"Enter your name\")\n",
        "print(\"Greetings\",a)"
      ],
      "metadata": {
        "colab": {
          "base_uri": "https://localhost:8080/"
        },
        "id": "gm2-6m4gBXp-",
        "outputId": "56ea0e02-282f-438e-e4df-cd88d2fffc4f"
      },
      "execution_count": null,
      "outputs": [
        {
          "output_type": "stream",
          "name": "stdout",
          "text": [
            "Enter your nameAyan\n",
            "Greetings Ayan\n"
          ]
        }
      ]
    },
    {
      "cell_type": "markdown",
      "source": [
        "5. Check whether a number is even or odd."
      ],
      "metadata": {
        "id": "myDGeK3gQnFl"
      }
    },
    {
      "cell_type": "code",
      "source": [
        "a=4\n",
        "if(a%2==0):\n",
        "  print(a,\"is even\")\n",
        "else:\n",
        "   print(a,\"is odd\")"
      ],
      "metadata": {
        "colab": {
          "base_uri": "https://localhost:8080/"
        },
        "id": "aTIWb_kdB-CG",
        "outputId": "55502705-e543-4205-fe78-cd15b9767ace"
      },
      "execution_count": null,
      "outputs": [
        {
          "output_type": "stream",
          "name": "stdout",
          "text": [
            "4 is even\n"
          ]
        }
      ]
    },
    {
      "cell_type": "markdown",
      "source": [
        "6. Write a Python program that takes a list and returns a new list with unique elements of the first list."
      ],
      "metadata": {
        "id": "Y64EJXPZQoBt"
      }
    },
    {
      "cell_type": "code",
      "source": [
        "a = [1, 2, 2, 3, 4, 4, 5]\n",
        "b = list(set(a))\n",
        "print(\"Original list:\", a)\n",
        "print(\"Unique elements:\", b)"
      ],
      "metadata": {
        "colab": {
          "base_uri": "https://localhost:8080/"
        },
        "id": "vjtwVSA1CUIl",
        "outputId": "37799301-428a-47f4-9b7e-e2dea2badceb"
      },
      "execution_count": 9,
      "outputs": [
        {
          "output_type": "stream",
          "name": "stdout",
          "text": [
            "Original list: [1, 2, 2, 3, 4, 4, 5]\n",
            "Unique elements: [1, 2, 3, 4, 5]\n"
          ]
        }
      ]
    },
    {
      "cell_type": "markdown",
      "source": [
        "7. Convert Celsius to Fahrenheit."
      ],
      "metadata": {
        "id": "BrKb1HnmQ2Ln"
      }
    },
    {
      "cell_type": "code",
      "source": [
        "celsius = 25\n",
        "fahrenheit = (celsius * 9/5) + 32\n",
        "print(celsius, \"Celsius = \", fahrenheit, \"Fahrenheit\")\n"
      ],
      "metadata": {
        "colab": {
          "base_uri": "https://localhost:8080/"
        },
        "id": "z2lfTyl2BXkO",
        "outputId": "b5100d54-f537-425c-e3d4-362c5357a8a7"
      },
      "execution_count": 10,
      "outputs": [
        {
          "output_type": "stream",
          "name": "stdout",
          "text": [
            "25 Celsius =  77.0 Fahrenheit\n"
          ]
        }
      ]
    },
    {
      "cell_type": "markdown",
      "source": [
        "8. Calculate the area of a circle."
      ],
      "metadata": {
        "id": "gk6Za0RIQyRU"
      }
    },
    {
      "cell_type": "code",
      "source": [
        "import math\n",
        "r = 3\n",
        "a = math.pi * (r ** 2)\n",
        "print(\"Area of a circle with radius\", r, \"is:\", a)"
      ],
      "metadata": {
        "colab": {
          "base_uri": "https://localhost:8080/"
        },
        "id": "mMWImCq1DOhh",
        "outputId": "e7ac0395-bb71-4d50-e702-ff63b5a0bf53"
      },
      "execution_count": 11,
      "outputs": [
        {
          "output_type": "stream",
          "name": "stdout",
          "text": [
            "Area of a circle with radius 3 is: 28.274333882308138\n"
          ]
        }
      ]
    },
    {
      "cell_type": "markdown",
      "source": [
        "9. Reverse a given string."
      ],
      "metadata": {
        "id": "vltPCprdQ5Pz"
      }
    },
    {
      "cell_type": "code",
      "source": [
        "st = \"Ayan\"\n",
        "re_st = st[::-1]\n",
        "print(\"Reversed string:\", re_st)"
      ],
      "metadata": {
        "colab": {
          "base_uri": "https://localhost:8080/"
        },
        "id": "KUMZuoTcEv6t",
        "outputId": "3b2d5d64-e0b0-435d-f51a-a1db64ff9d5a"
      },
      "execution_count": 13,
      "outputs": [
        {
          "output_type": "stream",
          "name": "stdout",
          "text": [
            "Reversed string: nayA\n"
          ]
        }
      ]
    },
    {
      "cell_type": "markdown",
      "source": [
        "10. Check if a number is a prime number."
      ],
      "metadata": {
        "id": "r1pvsaXSQ88N"
      }
    },
    {
      "cell_type": "code",
      "source": [
        "a = 11\n",
        "t = 1\n",
        "b=a//2\n",
        "if a > 1:\n",
        "    for i in range(2, b):\n",
        "        if a % i == 0:\n",
        "            t = 0\n",
        "            break\n",
        "if (t==1):\n",
        "    print(a, \"is a prime number\")\n",
        "else:\n",
        "    print(a, \"is not a prime number\")"
      ],
      "metadata": {
        "colab": {
          "base_uri": "https://localhost:8080/"
        },
        "id": "P07cCLrqFdAt",
        "outputId": "82817dcc-8bb0-4ee9-8bad-eab801e86f55"
      },
      "execution_count": 17,
      "outputs": [
        {
          "output_type": "stream",
          "name": "stdout",
          "text": [
            "11 is a prime number\n"
          ]
        }
      ]
    },
    {
      "cell_type": "markdown",
      "source": [
        "11. Calculate the factorial of a number."
      ],
      "metadata": {
        "id": "SCdpQUUFQ_xd"
      }
    },
    {
      "cell_type": "code",
      "source": [
        "a = 3\n",
        "f = 1\n",
        "for i in range(1, a + 1):\n",
        "  f *= i\n",
        "print(\"factorial of\",a,\"is\",f)"
      ],
      "metadata": {
        "colab": {
          "base_uri": "https://localhost:8080/"
        },
        "id": "6DUTiMAWGImK",
        "outputId": "89a5934d-c793-44b1-fb84-4319142d4c1f"
      },
      "execution_count": 24,
      "outputs": [
        {
          "output_type": "stream",
          "name": "stdout",
          "text": [
            "factorial of 3 is 6\n"
          ]
        }
      ]
    },
    {
      "cell_type": "markdown",
      "source": [
        "12. Find the largest item from a given list."
      ],
      "metadata": {
        "id": "sg6w1Iq7RD2d"
      }
    },
    {
      "cell_type": "code",
      "source": [
        "n = [8, 5, 2, 9]\n",
        "l = max(n)\n",
        "print(\"Largest item in the list\", n, \"is:\", l)"
      ],
      "metadata": {
        "colab": {
          "base_uri": "https://localhost:8080/"
        },
        "id": "u1NGvy7uJDBN",
        "outputId": "6aa08b15-f691-4647-8a71-3c4a3e32bafc"
      },
      "execution_count": 26,
      "outputs": [
        {
          "output_type": "stream",
          "name": "stdout",
          "text": [
            "Largest item in the list [8, 5, 2, 9] is: 9\n"
          ]
        }
      ]
    },
    {
      "cell_type": "markdown",
      "source": [
        "13. Write a Python program to check whether a number is in a given range."
      ],
      "metadata": {
        "id": "8whLdy5XRGko"
      }
    },
    {
      "cell_type": "code",
      "source": [
        "n = 5\n",
        "a = 1\n",
        "b = 10\n",
        "if a <= n <= b:\n",
        "    print(n, \"is in the range\", a, \"to\", b)\n",
        "else:\n",
        "    print(n, \"is not in the range\", a, \"to\", b)"
      ],
      "metadata": {
        "colab": {
          "base_uri": "https://localhost:8080/"
        },
        "id": "psAbl0UrJzq3",
        "outputId": "3b12fe01-2ead-4eba-a5f3-e294200d4e75"
      },
      "execution_count": 27,
      "outputs": [
        {
          "output_type": "stream",
          "name": "stdout",
          "text": [
            "5 is in the range 1 to 10\n"
          ]
        }
      ]
    },
    {
      "cell_type": "markdown",
      "source": [
        "14. Calculate the number of upper case letters and lower case letters in a string."
      ],
      "metadata": {
        "id": "eaMkODpIRK5f"
      }
    },
    {
      "cell_type": "code",
      "source": [
        "a = \"Hello World!\"\n",
        "u = sum(1 for char in a if char.isupper())\n",
        "l = sum(1 for char in a if char.islower())\n",
        "print(\"Uppercase letters:\", u, \"| Lowercase letters:\", l)"
      ],
      "metadata": {
        "colab": {
          "base_uri": "https://localhost:8080/"
        },
        "id": "0bnPUJXLKNqd",
        "outputId": "3aad1d0c-56f5-4bd0-e745-05b002166a75"
      },
      "execution_count": 29,
      "outputs": [
        {
          "output_type": "stream",
          "name": "stdout",
          "text": [
            "Uppercase letters: 2 | Lowercase letters: 8\n"
          ]
        }
      ]
    }
  ]
}