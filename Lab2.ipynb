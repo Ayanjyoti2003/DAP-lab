{
  "nbformat": 4,
  "nbformat_minor": 0,
  "metadata": {
    "colab": {
      "provenance": [],
      "authorship_tag": "ABX9TyM+DsonHYl+y7Qy7n3hMCFs"
    },
    "kernelspec": {
      "name": "python3",
      "display_name": "Python 3"
    },
    "language_info": {
      "name": "python"
    }
  },
  "cells": [
    {
      "cell_type": "code",
      "execution_count": 3,
      "metadata": {
        "colab": {
          "base_uri": "https://localhost:8080/"
        },
        "id": "WNzr5HgCLl9z",
        "outputId": "2b85f9b5-6d80-4724-dcb1-8ea2fc9449d7"
      },
      "outputs": [
        {
          "output_type": "stream",
          "name": "stdout",
          "text": [
            "24\n"
          ]
        }
      ],
      "source": [
        "#Write a Python function to multiply all the numbers in a list\n",
        "def multiply_list(numbers):\n",
        "    result = 1\n",
        "    for num in numbers:\n",
        "        result *= num\n",
        "    return result\n",
        "\n",
        "print(multiply_list([2, 3, 4]))\n"
      ]
    },
    {
      "cell_type": "code",
      "source": [
        "#Check if a number is perfect\n",
        "def is_perfect(n):\n",
        "    sum_of_divisors = 0\n",
        "    for i in range(1, n):\n",
        "        if n % i == 0:\n",
        "            sum_of_divisors += i\n",
        "    return sum_of_divisors == n\n",
        "\n",
        "print(is_perfect(28))"
      ],
      "metadata": {
        "colab": {
          "base_uri": "https://localhost:8080/"
        },
        "id": "AJYmQPZtPehT",
        "outputId": "00ea5704-10c5-4107-bf8b-daee14821c56"
      },
      "execution_count": 4,
      "outputs": [
        {
          "output_type": "stream",
          "name": "stdout",
          "text": [
            "True\n"
          ]
        }
      ]
    },
    {
      "cell_type": "code",
      "source": [
        "#Create a function to check if a string is palindrome\n",
        "def is_palindrome(s):\n",
        "    normalized = s.lower().replace(\" \", \"\")\n",
        "    if normalized == normalized[::-1]:\n",
        "        print(\"palindrome\")\n",
        "    else:\n",
        "        print(\"not a palindrome\")\n",
        "\n",
        "print(is_palindrome(\"Race car\"))"
      ],
      "metadata": {
        "colab": {
          "base_uri": "https://localhost:8080/"
        },
        "id": "WmEleUCoPuXn",
        "outputId": "ac5639d1-dd72-4805-b51b-3292758a5d31"
      },
      "execution_count": 5,
      "outputs": [
        {
          "output_type": "stream",
          "name": "stdout",
          "text": [
            "palindrome\n",
            "None\n"
          ]
        }
      ]
    },
    {
      "cell_type": "code",
      "source": [
        "#Check if a string is a pangram\n",
        "def is_pangram(s):\n",
        "    alphabet = \"abcdefghijklmnopqrstuvwxyz\"\n",
        "    for letter in alphabet:\n",
        "        if letter not in s.lower():\n",
        "            return False\n",
        "    return True\n",
        "\n",
        "print(is_pangram(\"The quick brown fox jumps over the lazy dog.\"))"
      ],
      "metadata": {
        "colab": {
          "base_uri": "https://localhost:8080/"
        },
        "id": "45WetrikP-qd",
        "outputId": "b7d4520b-049f-4ba1-8197-eecedf0b73a5"
      },
      "execution_count": 6,
      "outputs": [
        {
          "output_type": "stream",
          "name": "stdout",
          "text": [
            "True\n"
          ]
        }
      ]
    },
    {
      "cell_type": "code",
      "source": [
        "#Calculate sum of digits of a number\n",
        "def sum_of_digits(n):\n",
        "    total = 0\n",
        "    for digit in str(abs(n)):\n",
        "        total += int(digit)\n",
        "    return total\n",
        "\n",
        "print(sum_of_digits(1234))"
      ],
      "metadata": {
        "colab": {
          "base_uri": "https://localhost:8080/"
        },
        "id": "sf4go0noQSld",
        "outputId": "67b5195b-48f1-479f-a6f2-53f2c5b6748c"
      },
      "execution_count": 7,
      "outputs": [
        {
          "output_type": "stream",
          "name": "stdout",
          "text": [
            "10\n"
          ]
        }
      ]
    },
    {
      "cell_type": "code",
      "source": [
        "#Generate a list of four random numbers\n",
        "def generate_random_numbers():\n",
        "    random_numbers = []\n",
        "    for i in range(4):\n",
        "        random_numbers.append((int(str(i * 7 + 3)[-1]) + 1) * 7 % 100)\n",
        "    return random_numbers\n",
        "\n",
        "print(generate_random_numbers())"
      ],
      "metadata": {
        "colab": {
          "base_uri": "https://localhost:8080/"
        },
        "id": "JJYtqofeQjKi",
        "outputId": "7a963add-6dd1-48c1-8b80-452e130161b7"
      },
      "execution_count": 9,
      "outputs": [
        {
          "output_type": "stream",
          "name": "stdout",
          "text": [
            "[28, 7, 56, 35]\n"
          ]
        }
      ]
    }
  ]
}